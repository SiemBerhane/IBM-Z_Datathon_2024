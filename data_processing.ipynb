{
 "cells": [
  {
   "metadata": {},
   "cell_type": "markdown",
   "source": [
    "\n",
    "# Data Processing\n",
    "In this notebook we load and process the raw data to develop the final dataset for the IBM-Z Datathon. We make use of three main datasets for a list of all observed geo-effective CMEs from the post-SOHO era between 1996-2024, and three data sets for features and targets:\n",
    "\n",
    "#### Geo-effective CMEs:\n",
    "- The Richardson and Cane list; a list of near-Earth CMEs from 1996-2010.\n",
    "- The George Mason University CME/ICME list; a list of geo-effective CMEs from 2007-2017.\n",
    "- The NASA CME Scoreboard; a list of geo-effective CMEs from 2013-2024.\n",
    "\n",
    "#### Features and Targets:\n",
    "- The SOHO-LASCO CME Catalogue; a list of all CMEs observed from 1996-2024 containing information on physical quantities.\n",
    "- OMNIWeb Plus data; a list of solar wind features associated with CMEs.\n",
    "- The SIDC sunspot data; daily total sunspot number encoding information about the solar cycle from 1818-2024.\n",
    "\n"
   ],
   "id": "fd6991932ae8fbf"
  },
  {
   "metadata": {},
   "cell_type": "markdown",
   "source": "### Importing Libraries",
   "id": "66faa6e0e7c8f82c"
  },
  {
   "metadata": {
    "ExecuteTime": {
     "end_time": "2024-10-18T17:44:31.973600Z",
     "start_time": "2024-10-18T17:44:31.659914Z"
    }
   },
   "cell_type": "code",
   "source": "import pandas as pd",
   "id": "3968ef87027f7def",
   "outputs": [],
   "execution_count": 1
  },
  {
   "metadata": {},
   "cell_type": "code",
   "outputs": [],
   "execution_count": null,
   "source": "",
   "id": "1d63e38c978583d5"
  }
 ],
 "metadata": {
  "kernelspec": {
   "display_name": "Python 3",
   "language": "python",
   "name": "python3"
  },
  "language_info": {
   "codemirror_mode": {
    "name": "ipython",
    "version": 2
   },
   "file_extension": ".py",
   "mimetype": "text/x-python",
   "name": "python",
   "nbconvert_exporter": "python",
   "pygments_lexer": "ipython2",
   "version": "2.7.6"
  }
 },
 "nbformat": 4,
 "nbformat_minor": 5
}
