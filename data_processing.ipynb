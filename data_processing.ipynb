{
 "cells": [
  {
   "metadata": {},
   "cell_type": "markdown",
   "source": [
    "# Data Processing\n",
    "In this notebook we load and process the raw data to develop the final dataset for the IBM-Z Datathon"
   ],
   "id": "fd6991932ae8fbf"
  },
  {
   "metadata": {},
   "cell_type": "markdown",
   "source": "### Importing Libraries",
   "id": "66faa6e0e7c8f82c"
  },
  {
   "metadata": {
    "ExecuteTime": {
     "end_time": "2024-10-18T17:44:31.973600Z",
     "start_time": "2024-10-18T17:44:31.659914Z"
    }
   },
   "cell_type": "code",
   "source": "import pandas as pd",
   "id": "3968ef87027f7def",
   "outputs": [],
   "execution_count": 1
  },
  {
   "metadata": {},
   "cell_type": "code",
   "outputs": [],
   "execution_count": null,
   "source": "",
   "id": "1d63e38c978583d5"
  }
 ],
 "metadata": {
  "kernelspec": {
   "display_name": "Python 3",
   "language": "python",
   "name": "python3"
  },
  "language_info": {
   "codemirror_mode": {
    "name": "ipython",
    "version": 2
   },
   "file_extension": ".py",
   "mimetype": "text/x-python",
   "name": "python",
   "nbconvert_exporter": "python",
   "pygments_lexer": "ipython2",
   "version": "2.7.6"
  }
 },
 "nbformat": 4,
 "nbformat_minor": 5
}
